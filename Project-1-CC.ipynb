{
 "cells": [
  {
   "cell_type": "markdown",
   "metadata": {},
   "source": [
    "<img src=\"http://imgur.com/1ZcRyrc.png\" style=\"float: left; margin: 20px; height: 55px\">\n",
    "\n",
    "# Project 1: Python Coding Exercises\n",
    "\n",
    "_Authors: Joseph Nelson (DC)_\n",
    "\n",
    "---"
   ]
  },
  {
   "cell_type": "markdown",
   "metadata": {},
   "source": [
    "The following code challenges are drawn from common exercises used in technical interviews.\n",
    "\n",
    "Please note that there may be several ways to approach each challenge. If you get stuck, try mapping out your approach in pseudocode first. Finally, while solutions to problems like these may be found online, remember that if you copy/paste code that you can't explain, you'll be missing out on the point of the project and running the risk of not receiving a passing grade on the project. The only way to truly learn a new skill is through practice, trial, and error - we can only help you improve by understanding where you are having trouble."
   ]
  },
  {
   "cell_type": "markdown",
   "metadata": {},
   "source": [
    "### Challenge 1: Largest Palindrome\n",
    "A palindromic number reads the same both ways. For example, 1234321 is a palindrome. The largest palindrome made from the product of two two-digit numbers is 9009 = 91 × 99. Find the largest palindrome made from the product of two three-digit numbers. Afterward, write a brief explanation walking through your code's logic in markdown."
   ]
  },
  {
   "cell_type": "code",
   "execution_count": 63,
   "metadata": {},
   "outputs": [
    {
     "name": "stdout",
     "output_type": "stream",
     "text": [
      "False\n",
      "906609\n"
     ]
    }
   ],
   "source": [
    "def isPalindrome(string):\n",
    "    string=str(string)\n",
    "    reverseValue = \"\"\n",
    "\n",
    "    for i in range(len(string) - 1, -1, -1): # iterates over all numbers less than param1\n",
    "        reverseValue += string[i] # start filling the string reversly\n",
    "\n",
    "    return reverseValue == string # compare the two strings and return the value\n",
    "\n",
    "def largestPalindrome():\n",
    "    maxPalindrome = -1\n",
    "\n",
    "    # start looping to get all possibles palindrome for two-three digit\n",
    "    for i in range(999, 99, -1):\n",
    "        for j in range(i, 99, -1):\n",
    "\n",
    "            if isPalindrome(i * j) and i * j > maxPalindrome:\n",
    "                maxPalindrome = i * j\n",
    "    return maxPalindrome\n",
    "\n",
    "print(largestPalindrome())"
   ]
  },
  {
   "cell_type": "markdown",
   "metadata": {},
   "source": [
    "\n",
    "### Challenge 2: Summation of Primes\n",
    "The sum of the primes below 10 is 2 + 3 + 5 + 7 = 17. Find the sum of all the primes below 2,000. Afterward, write a brief explanation walking through your code's logic in markdown."
   ]
  },
  {
   "cell_type": "code",
   "execution_count": 25,
   "metadata": {},
   "outputs": [
    {
     "data": {
      "text/plain": [
       "277050"
      ]
     },
     "execution_count": 25,
     "metadata": {},
     "output_type": "execute_result"
    }
   ],
   "source": [
    "def primesSummation(maxNumber):\n",
    "    result=0\n",
    "    for num in range(2, maxNumber):# we don't need to +1 to maxNumber because the sameNumber is not prime\n",
    "        for i in range(2, num):\n",
    "                if (num % i) == 0:\n",
    "                    break\n",
    "        else:\n",
    "            result+=num\n",
    "    return result\n",
    "primesSummation(2000)"
   ]
  },
  {
   "cell_type": "markdown",
   "metadata": {},
   "source": [
    "### Challenge 3: Multiples of 3 and 5\n",
    "If we list all of the natural numbers below 10 that are multiples of 3 or 5, we get 3, 5, 6, and 9. The sum of these multiples is 23. Find the sum of all the multiples of 3 and 5 below 1,000. Afterward, write a brief explanation walking through your code's logic in markdown."
   ]
  },
  {
   "cell_type": "code",
   "execution_count": 34,
   "metadata": {},
   "outputs": [
    {
     "name": "stdout",
     "output_type": "stream",
     "text": [
      "233168\n"
     ]
    }
   ],
   "source": [
    "def multiplesSummation(number):\n",
    "    result=0\n",
    "    for num in range(3,number):\n",
    "        if(num%3==0 or num %5==0):\n",
    "            result+=num\n",
    "    return result\n",
    "\n",
    "print(multiplesSummation(1000))"
   ]
  },
  {
   "cell_type": "markdown",
   "metadata": {},
   "source": [
    "### Challenge 4: String Compressor\n",
    "Implement a method to perform basic string compression using the counts of repeated characters. (This is called run-length encoding.) For example, the string \"aabcccccaaa\" would become a2b1c5a3. If the “compressed” string would not become smaller than the original string, your method should return the original string. You can assume the string has only uppercase and lowercase letters (a–z). Specify whether your solution is case sensitive or case insensitive and what you would need to change to make it the other. Afterward, write a brief explanation walking through your code's logic in markdown."
   ]
  },
  {
   "cell_type": "code",
   "execution_count": 40,
   "metadata": {},
   "outputs": [
    {
     "data": {
      "text/plain": [
       "'abc'"
      ]
     },
     "execution_count": 40,
     "metadata": {},
     "output_type": "execute_result"
    }
   ],
   "source": [
    "def compress(string):\n",
    "\n",
    "    count = 1\n",
    "    result=''\n",
    "    result += string[0] # assign the first char to result\n",
    "    \n",
    "    flag=0 # if there is not repeation in string\n",
    "    \n",
    "    for i in range(len(string)-1): #iterate, skipping last one\n",
    "        if(string[i] == string[i+1]): # if there is a match start counting\n",
    "            flag=1\n",
    "            count+=1\n",
    "        else:\n",
    "            if(count > 1):# no repeats\n",
    "                result += str(count)\n",
    "            result += string[i+1]\n",
    "            count = 1\n",
    "    \n",
    "    if(count > 1): #last count\n",
    "        result += str(count)\n",
    "    if(flag ==0): # no repeats in the string\n",
    "        result = string\n",
    "    return result\n",
    "\n",
    "compress('abc')"
   ]
  },
  {
   "cell_type": "markdown",
   "metadata": {},
   "source": [
    "### *BONUS* Challenge: FizzBuzz\n",
    "Write a program that prints all of the numbers from 1 to 100. For multiples of 3, instead of the number, print \"Fizz;\" for multiples of 5, print \"Buzz.\" For numbers that are multiples of both 3 and 5, print \"FizzBuzz.\" Afterward, write a brief explanation walking through your code's logic in markdown."
   ]
  },
  {
   "cell_type": "code",
   "execution_count": 56,
   "metadata": {},
   "outputs": [
    {
     "name": "stdout",
     "output_type": "stream",
     "text": [
      "FizzBuzz\n",
      "1\n",
      "2\n",
      "Fizz\n",
      "4\n",
      "Buzz\n",
      "Fizz\n",
      "7\n",
      "8\n",
      "Fizz\n",
      "Buzz\n"
     ]
    }
   ],
   "source": [
    "def fizzBuzzChallenge(number):\n",
    "    for num in range(number+1):\n",
    "        if num % 3==0:\n",
    "            if num % 5==0:\n",
    "                print('FizzBuzz')\n",
    "            else:\n",
    "                print('Fizz')\n",
    "        elif num % 5==0:\n",
    "                print('Buzz')\n",
    "        else:\n",
    "            print(num)\n",
    "                \n",
    "fizzBuzzChallenge(10)"
   ]
  },
  {
   "cell_type": "code",
   "execution_count": null,
   "metadata": {},
   "outputs": [],
   "source": []
  },
  {
   "cell_type": "code",
   "execution_count": null,
   "metadata": {},
   "outputs": [],
   "source": []
  }
 ],
 "metadata": {
  "anaconda-cloud": {},
  "kernelspec": {
   "display_name": "Python 3",
   "language": "python",
   "name": "python3"
  },
  "language_info": {
   "codemirror_mode": {
    "name": "ipython",
    "version": 3
   },
   "file_extension": ".py",
   "mimetype": "text/x-python",
   "name": "python",
   "nbconvert_exporter": "python",
   "pygments_lexer": "ipython3",
   "version": "3.6.5"
  }
 },
 "nbformat": 4,
 "nbformat_minor": 2
}
